{
  "nbformat": 4,
  "nbformat_minor": 0,
  "metadata": {
    "colab": {
      "provenance": []
    },
    "kernelspec": {
      "name": "python3",
      "display_name": "Python 3"
    },
    "language_info": {
      "name": "python"
    },
    "accelerator": "GPU",
    "gpuClass": "standard"
  },
  "cells": [
    {
      "cell_type": "code",
      "source": [
        "import sys"
      ],
      "metadata": {
        "id": "iFk20zgGnt9k"
      },
      "execution_count": null,
      "outputs": []
    },
    {
      "cell_type": "code",
      "execution_count": null,
      "metadata": {
        "id": "vU72ioHd-mWe"
      },
      "outputs": [],
      "source": [
        "# Printing the Tic-Tac-Toe board\n",
        "\n",
        "def ConstBoard (board):\n",
        "  print(\"Current state of board: \")\n",
        "  for i in range(0, 9):\n",
        "    # Print new line after every 3rd element\n",
        "    if (i % 3 == 0):\n",
        "      print('\\n')\n",
        "    \n",
        "    # 0 denotes empty space in board\n",
        "    if (board[i] == 0):\n",
        "      print('-', end = \"  \")\n",
        "\n",
        "    # 1 denotes O in board\n",
        "    if (board[i] == 1):\n",
        "      print('O', end = \"  \")\n",
        "\n",
        "    # -1 denotes X in board\n",
        "    if (board[i] == -1):\n",
        "      print('X', end = \"  \")\n",
        "  print('\\n')"
      ]
    },
    {
      "cell_type": "code",
      "source": [
        "# User-1 chance\n",
        "\n",
        "def User1 (board):\n",
        "  pos = int(input(\"Enter X's position from [1...9]: \"))\n",
        "\n",
        "  # If user makes any wrong or invalid move, the game stops\n",
        "  if (board[pos - 1] != 0):\n",
        "    sys.exit(\"Wrong Move\")\n",
        "  \n",
        "  # Assigning that position of the board to X\n",
        "  board[pos - 1] = -1"
      ],
      "metadata": {
        "id": "pD1sejHfDF9O"
      },
      "execution_count": null,
      "outputs": []
    },
    {
      "cell_type": "code",
      "source": [
        "# User-2 chance\n",
        "\n",
        "def User2 (board):\n",
        "  pos = int(input(\"Enter O's position from [1...9]: \"))\n",
        "\n",
        "  # If user makes any wrong or invalid move, the game stops\n",
        "  if (board[pos - 1] != 0):\n",
        "    sys.exit(\"Wrong Move\")\n",
        "\n",
        "  # Assigning that position of the board to O\n",
        "  board[pos - 1] = 1"
      ],
      "metadata": {
        "id": "JBdVNztENoO7"
      },
      "execution_count": null,
      "outputs": []
    },
    {
      "cell_type": "code",
      "source": [
        "# Analyze who won the game\n",
        "\n",
        "def AnalyzeBoard (board):\n",
        "  # winPos are the positions which if have all X or all O will make the player win the game\n",
        "  winPos = [[0, 1, 2], [3, 4, 5], [6, 7, 8], [0, 3, 6], [1, 4, 7], [2, 5, 8], [0, 4, 8], [2, 4, 6]]\n",
        "  for i in range(0, 8):\n",
        "\n",
        "    # Checks if the winPos is not empty and consequent X or O is present\n",
        "    if (board[winPos[i][0]] != 0 and board[winPos[i][0]] == board[winPos[i][1]] == board[winPos[i][2]]):\n",
        "\n",
        "      # Return 1 or -1\n",
        "      return board[winPos[i][0]]\n",
        "  \n",
        "  # Returns 0 for Draw condition\n",
        "  return 0"
      ],
      "metadata": {
        "id": "xx21nN3aNzOj"
      },
      "execution_count": null,
      "outputs": []
    },
    {
      "cell_type": "code",
      "source": [
        "# Minimax Algorithm\n",
        "\n",
        "def minmax(board, player):\n",
        "\n",
        "  # Edge case to check if player or computer has won the game\n",
        "  x = AnalyzeBoard(board) # x will return either 1 or -1 or 0\n",
        "\n",
        "  # If x returns 1 or -1\n",
        "  if (x != 0):\n",
        "    return (x * player) # Value returned will be the opposite\n",
        "\n",
        "  # AI trying to predict the user's position before the user gives his/her choice and getting data ready for it's next move\n",
        "  pos = -1\n",
        "  value = -2\n",
        "  for i in range(0, 9):\n",
        "\n",
        "    # Checks if the position is empty\n",
        "    if (board[i] == 0):\n",
        "\n",
        "      # Assigning that position with 1 for Computer and -1 for User\n",
        "      board[i] = player\n",
        "\n",
        "      # Calculating the score\n",
        "      score = -minmax(board, player * -1)   # Due to (-) sign, score is 1 for Computer and -1 for User\n",
        "\n",
        "      # Making the board in it's original position\n",
        "      board[i] = 0\n",
        "\n",
        "      # If score is greater than value then assigning new value into score and new position(i) into pos\n",
        "      if (score > value):\n",
        "        value = score\n",
        "        pos = i\n",
        "  \n",
        "  # If no new position found, it denotes Draw\n",
        "  if (pos == -1):\n",
        "    return 0\n",
        "\n",
        "  # Returns the new value\n",
        "  return value"
      ],
      "metadata": {
        "id": "9yJ5gdHEhqep"
      },
      "execution_count": null,
      "outputs": []
    },
    {
      "cell_type": "code",
      "source": [
        "# Computer chance\n",
        "\n",
        "def CompTurn(board):\n",
        "  # AI trying to give it's best move\n",
        "  pos = -1\n",
        "  value = -2\n",
        "  for i in range(0, 9):\n",
        "\n",
        "    # Checks if the position is empty\n",
        "    if (board[i] == 0):\n",
        "\n",
        "      # Assigning that position with 1\n",
        "      board[i] = 1\n",
        "\n",
        "      # Calculating score\n",
        "      score = -minmax(board, -1)  # -1 is User's move, after computer's move AI will calculate the score\n",
        "\n",
        "      # Making the board in it's original position\n",
        "      board[i] = 0\n",
        "\n",
        "      # If score is greater than value then assigning new value into score and new position(i) into pos\n",
        "      if (score > value):\n",
        "        value = score\n",
        "        pos = i\n",
        "  \n",
        "  # Updating the position with Computer's choice\n",
        "  board[pos] = 1"
      ],
      "metadata": {
        "id": "kCim4200PNxW"
      },
      "execution_count": null,
      "outputs": []
    },
    {
      "cell_type": "code",
      "source": [
        "def main():\n",
        "  print(\"Enter 1 for single player game\")\n",
        "  print(\"Enter 2 for multi player game\")\n",
        "\n",
        "  # Users Choice\n",
        "  choice = int(input(\"Please enter your choice: \"))\n",
        "\n",
        "  # Initial situation of board\n",
        "  board = [0,0,0,0,0,0,0,0,0]\n",
        "\n",
        "  # Single player game\n",
        "  if (choice == 1):\n",
        "    print(\"\\nComputer: O  vs.  You: X\")\n",
        "    play = int(input(\"Press 1 to play first else Press 2: \"))\n",
        "    print(\"\\n\")\n",
        "\n",
        "    for i in range (0, 9):\n",
        "\n",
        "      # Check for Draw\n",
        "      if (AnalyzeBoard(board) != 0):\n",
        "        break\n",
        "      \n",
        "      # Computer's turn\n",
        "      if ((i + play) % 2 == 0):\n",
        "        CompTurn(board)\n",
        "\n",
        "      # User's turn\n",
        "      else:\n",
        "        ConstBoard(board)\n",
        "        User1(board)\n",
        "\n",
        "  # Multi player game\n",
        "  else:\n",
        "    for i in range (0, 9):\n",
        "\n",
        "      # Check for Draw\n",
        "      if (AnalyzeBoard(board) != 0):\n",
        "        break\n",
        "      \n",
        "      # User-1's turn\n",
        "      if (i % 2 == 0):\n",
        "        ConstBoard(board)\n",
        "        User1(board)\n",
        "\n",
        "      # User-2's turn\n",
        "      else:\n",
        "        ConstBoard(board)\n",
        "        User2(board)\n",
        "\n",
        "  # Printing the result\n",
        "  # Print conditions for Multi player game\n",
        "  if (choice == 2):\n",
        "    win = AnalyzeBoard(board)\n",
        "    if (win == 0):\n",
        "      ConstBoard(board)\n",
        "      print(\"It's a Draw!!\")\n",
        "    elif (win == 1):\n",
        "      ConstBoard(board)\n",
        "      print(\"Player O wins!!\")\n",
        "    else:\n",
        "      ConstBoard(board)\n",
        "      print(\"Player X wins!!\")\n",
        "  \n",
        "  # Print conditions for Single player game\n",
        "  elif (choice == 1):\n",
        "      win = AnalyzeBoard(board)\n",
        "      if (win == 0):\n",
        "        ConstBoard(board)\n",
        "        print(\"It's a Draw!!\")\n",
        "      elif (win == 1):\n",
        "        ConstBoard(board)\n",
        "        print(\"Computer won!!\")\n",
        "      else:\n",
        "        ConstBoard(board)\n",
        "        print(\"You won!!\")"
      ],
      "metadata": {
        "id": "gl7vKqNOWDuN"
      },
      "execution_count": null,
      "outputs": []
    },
    {
      "cell_type": "code",
      "source": [
        "main()"
      ],
      "metadata": {
        "colab": {
          "base_uri": "https://localhost:8080/"
        },
        "id": "B2_5iotKiuaS",
        "outputId": "792f6ea1-551c-4237-ef2a-3445870dfc24"
      },
      "execution_count": null,
      "outputs": [
        {
          "output_type": "stream",
          "name": "stdout",
          "text": [
            "Enter 1 for single player game\n",
            "Enter 2 for multi player game\n",
            "Please enter your choice: 2\n",
            "Current state of board: \n",
            "\n",
            "\n",
            "-  -  -  \n",
            "\n",
            "-  -  -  \n",
            "\n",
            "-  -  -  \n",
            "\n",
            "Enter X's position from [1...9]: 1\n",
            "Current state of board: \n",
            "\n",
            "\n",
            "X  -  -  \n",
            "\n",
            "-  -  -  \n",
            "\n",
            "-  -  -  \n",
            "\n",
            "Enter O's position from [1...9]: 2\n",
            "Current state of board: \n",
            "\n",
            "\n",
            "X  O  -  \n",
            "\n",
            "-  -  -  \n",
            "\n",
            "-  -  -  \n",
            "\n",
            "Enter X's position from [1...9]: 5\n",
            "Current state of board: \n",
            "\n",
            "\n",
            "X  O  -  \n",
            "\n",
            "-  X  -  \n",
            "\n",
            "-  -  -  \n",
            "\n",
            "Enter O's position from [1...9]: 3\n",
            "Current state of board: \n",
            "\n",
            "\n",
            "X  O  O  \n",
            "\n",
            "-  X  -  \n",
            "\n",
            "-  -  -  \n",
            "\n",
            "Enter X's position from [1...9]: 9\n",
            "Current state of board: \n",
            "\n",
            "\n",
            "X  O  O  \n",
            "\n",
            "-  X  -  \n",
            "\n",
            "-  -  X  \n",
            "\n",
            "Player X wins!!\n"
          ]
        }
      ]
    },
    {
      "cell_type": "code",
      "source": [],
      "metadata": {
        "id": "SqV1vNinqz1I"
      },
      "execution_count": null,
      "outputs": []
    }
  ]
}